{
 "cells": [
  {
   "cell_type": "code",
   "execution_count": 1,
   "id": "2dde0f1a",
   "metadata": {},
   "outputs": [
    {
     "name": "stdout",
     "output_type": "stream",
     "text": [
      "The Zen of Python, by Tim Peters\n",
      "\n",
      "Beautiful is better than ugly.\n",
      "Explicit is better than implicit.\n",
      "Simple is better than complex.\n",
      "Complex is better than complicated.\n",
      "Flat is better than nested.\n",
      "Sparse is better than dense.\n",
      "Readability counts.\n",
      "Special cases aren't special enough to break the rules.\n",
      "Although practicality beats purity.\n",
      "Errors should never pass silently.\n",
      "Unless explicitly silenced.\n",
      "In the face of ambiguity, refuse the temptation to guess.\n",
      "There should be one-- and preferably only one --obvious way to do it.\n",
      "Although that way may not be obvious at first unless you're Dutch.\n",
      "Now is better than never.\n",
      "Although never is often better than *right* now.\n",
      "If the implementation is hard to explain, it's a bad idea.\n",
      "If the implementation is easy to explain, it may be a good idea.\n",
      "Namespaces are one honking great idea -- let's do more of those!\n"
     ]
    }
   ],
   "source": [
    "import this"
   ]
  },
  {
   "cell_type": "code",
   "execution_count": 4,
   "id": "7f725247",
   "metadata": {},
   "outputs": [
    {
     "name": "stdout",
     "output_type": "stream",
     "text": [
      "1\n",
      "2\n",
      "3\n",
      "4\n",
      "5\n",
      "6\n",
      "7\n",
      "8\n",
      "9\n"
     ]
    }
   ],
   "source": [
    "for i in   range(1,10):\n",
    "        print(i)"
   ]
  },
  {
   "cell_type": "code",
   "execution_count": 18,
   "id": "7750d99d",
   "metadata": {},
   "outputs": [
    {
     "name": "stdout",
     "output_type": "stream",
     "text": [
      "['a', 'b', 'c', 'd', 'e']\n",
      "['a', 'b', 'c', 'd', 'e']\n"
     ]
    }
   ],
   "source": [
    "A =['a','b','c','d','e']\n",
    "\n",
    "print(A[-5:])\n",
    "print(A[0:])"
   ]
  },
  {
   "cell_type": "code",
   "execution_count": 20,
   "id": "fa16d8a6",
   "metadata": {},
   "outputs": [
    {
     "name": "stdout",
     "output_type": "stream",
     "text": [
      "{1, 2, 3}\n"
     ]
    }
   ],
   "source": [
    "set={1,1,2,3}\n",
    "print(set)"
   ]
  },
  {
   "cell_type": "code",
   "execution_count": 22,
   "id": "a7d329c1",
   "metadata": {},
   "outputs": [
    {
     "name": "stdout",
     "output_type": "stream",
     "text": [
      "1 1\n",
      "1 2\n",
      "2 3\n",
      "3 5\n",
      "5 8\n",
      "8 13\n",
      "13 21\n",
      "21 34\n",
      "34 55\n",
      "55 89\n",
      "89 144\n",
      "144 233\n",
      "[1, 1, 2, 3, 5, 8, 13, 21, 34, 55, 89]\n"
     ]
    }
   ],
   "source": [
    "a, b = 0, 1\n",
    "amax = 100\n",
    "L = []\n",
    "\n",
    "while True:\n",
    "    (a, b) = (b, a + b)\n",
    "    print(a,b)\n",
    "    if a > amax:\n",
    "        break\n",
    "    L.append(a)\n",
    "\n",
    "print(L)"
   ]
  },
  {
   "cell_type": "code",
   "execution_count": 4,
   "id": "5a989819",
   "metadata": {},
   "outputs": [
    {
     "name": "stdout",
     "output_type": "stream",
     "text": [
      "{1: 2, 3: 4}\n"
     ]
    }
   ],
   "source": [
    "a = {1:2,3:4}\n",
    "b = ('a','b')\n",
    "c = [True, False]\n",
    "b=a\n",
    "a=c\n",
    "c=b\n",
    "print(c)"
   ]
  },
  {
   "cell_type": "code",
   "execution_count": 37,
   "id": "d842200e",
   "metadata": {},
   "outputs": [
    {
     "name": "stdout",
     "output_type": "stream",
     "text": [
      "['Sapiens', 'Iliad', 'Odyssey']\n",
      "['Sapiens', 'Iliad', 'Odyssey']\n",
      "True\n",
      "True\n"
     ]
    }
   ],
   "source": [
    "#Assignment\n",
    "\n",
    "books = [\"Sapiens\", \"Iliad\"]\n",
    "\n",
    "#Assigning one variable to another\n",
    "\n",
    "favBooks = books\n",
    "\n",
    "#appending a new book to favBooks\n",
    "\n",
    "favBooks.append(\"Odyssey\")\n",
    "\n",
    "print(books)\n",
    "print(favBooks)\n",
    "print(books==favBooks)\n",
    "print(books is favBooks)"
   ]
  },
  {
   "cell_type": "code",
   "execution_count": 51,
   "id": "b6b5217b",
   "metadata": {},
   "outputs": [
    {
     "name": "stdout",
     "output_type": "stream",
     "text": [
      "[1, 2, 3]\n",
      "[1, 2, 3, 1, 2, 3]\n",
      "False\n"
     ]
    }
   ],
   "source": [
    "x=[1,2,3]\n",
    "def function(y):\n",
    "    y*=2\n",
    "    print(y)\n",
    "    print(y==x)\n",
    "print(x)\n",
    "function([1,2,3])"
   ]
  },
  {
   "cell_type": "code",
   "execution_count": 49,
   "id": "33e16c3a",
   "metadata": {},
   "outputs": [
    {
     "name": "stdout",
     "output_type": "stream",
     "text": [
      "(1, 2, 3)\n",
      "(1, 2, 3, 1, 2, 3)\n",
      "False\n"
     ]
    }
   ],
   "source": [
    "x=(1,2,3)\n",
    "def function(y):\n",
    "    y*=2\n",
    "    print(y)\n",
    "    print(y==x)\n",
    "print(x)\n",
    "function((1,2,3))"
   ]
  },
  {
   "cell_type": "code",
   "execution_count": 45,
   "id": "d2dbc5ad",
   "metadata": {},
   "outputs": [
    {
     "name": "stdout",
     "output_type": "stream",
     "text": [
      "args = (1, 2, 3)\n",
      "kwargs =  {'pi': 3.14}\n",
      "args = ((1, 2, 3), {'pi': 3.14})\n",
      "kwargs =  {}\n",
      "args = (1, 2)\n",
      "kwargs =  {'e': 'a'}\n"
     ]
    }
   ],
   "source": [
    "def catch_all(*args, **kwargs):\n",
    "    print(\"args =\", args)\n",
    "    print(\"kwargs = \", kwargs)\n",
    "    \n",
    "inputs = (1, 2, 3)\n",
    "keywords = {'pi': 3.14}\n",
    "\n",
    "catch_all(*inputs, **keywords)\n",
    "\n",
    "catch_all(inputs, keywords)\n",
    "\n",
    "catch_all(1,2, e=\"a\")"
   ]
  },
  {
   "cell_type": "code",
   "execution_count": 56,
   "id": "4de6f147",
   "metadata": {},
   "outputs": [
    {
     "data": {
      "text/plain": [
       "'Type mismatch'"
      ]
     },
     "execution_count": 56,
     "metadata": {},
     "output_type": "execute_result"
    }
   ],
   "source": [
    "def safe_divide(a, b):\n",
    "    try:\n",
    "        return a / b\n",
    "    except ZeroDivisionError:\n",
    "        return 1E100\n",
    "    except TypeError:\n",
    "        return \"Type mismatch\"\n",
    "\n",
    "safe_divide(1,'2')"
   ]
  },
  {
   "cell_type": "code",
   "execution_count": 62,
   "id": "6cac42e6",
   "metadata": {},
   "outputs": [
    {
     "ename": "MySpecialError",
     "evalue": "here's the message",
     "output_type": "error",
     "traceback": [
      "\u001b[1;31m---------------------------------------------------------------------------\u001b[0m",
      "\u001b[1;31mMySpecialError\u001b[0m                            Traceback (most recent call last)",
      "\u001b[1;32m~\\AppData\\Local\\Temp\\ipykernel_20696\\931237915.py\u001b[0m in \u001b[0;36m<module>\u001b[1;34m\u001b[0m\n\u001b[0;32m      2\u001b[0m     \u001b[1;32mpass\u001b[0m\u001b[1;33m\u001b[0m\u001b[1;33m\u001b[0m\u001b[0m\n\u001b[0;32m      3\u001b[0m \u001b[1;33m\u001b[0m\u001b[0m\n\u001b[1;32m----> 4\u001b[1;33m \u001b[1;32mraise\u001b[0m \u001b[0mMySpecialError\u001b[0m\u001b[1;33m(\u001b[0m\u001b[1;34m\"here's the message\"\u001b[0m\u001b[1;33m)\u001b[0m\u001b[1;33m\u001b[0m\u001b[1;33m\u001b[0m\u001b[0m\n\u001b[0m",
      "\u001b[1;31mMySpecialError\u001b[0m: here's the message"
     ]
    }
   ],
   "source": [
    "class MySpecialError(ValueError):\n",
    "    pass\n",
    "\n",
    "raise MySpecialError(\"here's the message\")"
   ]
  },
  {
   "cell_type": "code",
   "execution_count": 63,
   "id": "fbf209e9",
   "metadata": {},
   "outputs": [
    {
     "name": "stdout",
     "output_type": "stream",
     "text": [
      "do something\n",
      "do something else\n"
     ]
    }
   ],
   "source": [
    "try:\n",
    "    print(\"do something\")\n",
    "    raise MySpecialError(\"[informative error message here]\")\n",
    "except MySpecialError:\n",
    "    print(\"do something else\")"
   ]
  },
  {
   "cell_type": "code",
   "execution_count": 64,
   "id": "9965006e",
   "metadata": {},
   "outputs": [
    {
     "name": "stdout",
     "output_type": "stream",
     "text": [
      "range(0, 10)\n",
      "0 1 2 3 4 5 6 7 8 9\n"
     ]
    }
   ],
   "source": [
    "print(range(10))\n",
    "print(*range(10))"
   ]
  },
  {
   "cell_type": "code",
   "execution_count": 68,
   "id": "1d83006d",
   "metadata": {},
   "outputs": [
    {
     "name": "stdout",
     "output_type": "stream",
     "text": [
      "<map object at 0x000001B74235D790>\n",
      "0 1 4 9 16 25 36 49 64 81\n"
     ]
    }
   ],
   "source": [
    "print(map(lambda x: x ** 2, range(10)))\n",
    "print(*map(lambda x: x ** 2, range(10)))"
   ]
  },
  {
   "cell_type": "code",
   "execution_count": 75,
   "id": "d1c561b4",
   "metadata": {},
   "outputs": [
    {
     "name": "stdout",
     "output_type": "stream",
     "text": [
      "(1, 2, 3, 4) ('a', 'b', 'c', 'd')\n"
     ]
    }
   ],
   "source": [
    "L1 = (1, 2, 3, 4)\n",
    "L2 = ('a', 'b', 'c', 'd')\n",
    "z = zip(L1, L2)\n",
    "new_L1, new_L2 = zip(*z)\n",
    "print(new_L1, new_L2)"
   ]
  },
  {
   "cell_type": "code",
   "execution_count": 52,
   "id": "4d736fdd",
   "metadata": {},
   "outputs": [
    {
     "name": "stdout",
     "output_type": "stream",
     "text": [
      "2020-01-01         NaN\n",
      "2020-01-02    0.707107\n",
      "2020-01-03    1.000000\n",
      "2020-01-04    1.290994\n",
      "2020-01-05    1.581139\n",
      "2020-01-06    1.581139\n",
      "2020-01-07    1.581139\n",
      "2020-01-08    1.581139\n",
      "2020-01-09    1.581139\n",
      "2020-01-10    1.581139\n",
      "2020-01-11    1.581139\n",
      "2020-01-12    1.581139\n",
      "2020-01-13    1.581139\n",
      "2020-01-14    1.581139\n",
      "2020-01-15    1.581139\n",
      "2020-01-16    1.581139\n",
      "2020-01-17    1.581139\n",
      "2020-01-18    1.581139\n",
      "2020-01-19    1.581139\n",
      "2020-01-20    1.581139\n",
      "2020-01-21    1.581139\n",
      "2020-01-22    1.581139\n",
      "2020-01-23    1.581139\n",
      "2020-01-24    1.581139\n",
      "2020-01-25    1.581139\n",
      "2020-01-26    1.581139\n",
      "2020-01-27    1.581139\n",
      "2020-01-28    1.581139\n",
      "2020-01-29    1.581139\n",
      "2020-01-30    1.581139\n",
      "2020-01-31    1.581139\n",
      "2020-02-01    1.581139\n",
      "2020-02-02    1.581139\n",
      "2020-02-03    1.581139\n",
      "2020-02-04    1.581139\n",
      "2020-02-05    1.581139\n",
      "2020-02-06    1.581139\n",
      "2020-02-07    1.581139\n",
      "2020-02-08    1.581139\n",
      "2020-02-09    1.581139\n",
      "2020-02-10    1.581139\n",
      "2020-02-11    1.581139\n",
      "2020-02-12    1.581139\n",
      "2020-02-13    1.581139\n",
      "2020-02-14    1.581139\n",
      "2020-02-15    1.581139\n",
      "2020-02-16    1.581139\n",
      "2020-02-17    1.581139\n",
      "2020-02-18    1.581139\n",
      "2020-02-19    1.581139\n",
      "Freq: D, dtype: float64\n",
      "2020-01-01         NaN\n",
      "2020-01-02    0.500000\n",
      "2020-01-03    1.000000\n",
      "2020-01-04    1.666667\n",
      "2020-01-05    2.500000\n",
      "2020-01-06    2.500000\n",
      "2020-01-07    2.500000\n",
      "2020-01-08    2.500000\n",
      "2020-01-09    2.500000\n",
      "2020-01-10    2.500000\n",
      "2020-01-11    2.500000\n",
      "2020-01-12    2.500000\n",
      "2020-01-13    2.500000\n",
      "2020-01-14    2.500000\n",
      "2020-01-15    2.500000\n",
      "2020-01-16    2.500000\n",
      "2020-01-17    2.500000\n",
      "2020-01-18    2.500000\n",
      "2020-01-19    2.500000\n",
      "2020-01-20    2.500000\n",
      "2020-01-21    2.500000\n",
      "2020-01-22    2.500000\n",
      "2020-01-23    2.500000\n",
      "2020-01-24    2.500000\n",
      "2020-01-25    2.500000\n",
      "2020-01-26    2.500000\n",
      "2020-01-27    2.500000\n",
      "2020-01-28    2.500000\n",
      "2020-01-29    2.500000\n",
      "2020-01-30    2.500000\n",
      "2020-01-31    2.500000\n",
      "2020-02-01    2.500000\n",
      "2020-02-02    2.500000\n",
      "2020-02-03    2.500000\n",
      "2020-02-04    2.500000\n",
      "2020-02-05    2.500000\n",
      "2020-02-06    2.500000\n",
      "2020-02-07    2.500000\n",
      "2020-02-08    2.500000\n",
      "2020-02-09    2.500000\n",
      "2020-02-10    2.500000\n",
      "2020-02-11    2.500000\n",
      "2020-02-12    2.500000\n",
      "2020-02-13    2.500000\n",
      "2020-02-14    2.500000\n",
      "2020-02-15    2.500000\n",
      "2020-02-16    2.500000\n",
      "2020-02-17    2.500000\n",
      "2020-02-18    2.500000\n",
      "2020-02-19    2.500000\n",
      "Freq: D, dtype: float64\n"
     ]
    },
    {
     "data": {
      "text/plain": [
       "2020-01-01    NaN\n",
       "2020-01-02    1.0\n",
       "2020-01-03    1.0\n",
       "2020-01-04    1.0\n",
       "2020-01-05    1.0\n",
       "2020-01-06    1.0\n",
       "2020-01-07    1.0\n",
       "2020-01-08    1.0\n",
       "2020-01-09    1.0\n",
       "2020-01-10    1.0\n",
       "2020-01-11    1.0\n",
       "2020-01-12    1.0\n",
       "2020-01-13    1.0\n",
       "2020-01-14    1.0\n",
       "2020-01-15    1.0\n",
       "2020-01-16    1.0\n",
       "2020-01-17    1.0\n",
       "2020-01-18    1.0\n",
       "2020-01-19    1.0\n",
       "2020-01-20    1.0\n",
       "2020-01-21    1.0\n",
       "2020-01-22    1.0\n",
       "2020-01-23    1.0\n",
       "2020-01-24    1.0\n",
       "2020-01-25    1.0\n",
       "2020-01-26    1.0\n",
       "2020-01-27    1.0\n",
       "2020-01-28    1.0\n",
       "2020-01-29    1.0\n",
       "2020-01-30    1.0\n",
       "2020-01-31    1.0\n",
       "2020-02-01    1.0\n",
       "2020-02-02    1.0\n",
       "2020-02-03    1.0\n",
       "2020-02-04    1.0\n",
       "2020-02-05    1.0\n",
       "2020-02-06    1.0\n",
       "2020-02-07    1.0\n",
       "2020-02-08    1.0\n",
       "2020-02-09    1.0\n",
       "2020-02-10    1.0\n",
       "2020-02-11    1.0\n",
       "2020-02-12    1.0\n",
       "2020-02-13    1.0\n",
       "2020-02-14    1.0\n",
       "2020-02-15    1.0\n",
       "2020-02-16    1.0\n",
       "2020-02-17    1.0\n",
       "2020-02-18    1.0\n",
       "2020-02-19    1.0\n",
       "Freq: D, dtype: float64"
      ]
     },
     "execution_count": 52,
     "metadata": {},
     "output_type": "execute_result"
    }
   ],
   "source": [
    "import pandas as pd\n",
    "s = pd.Series(range(50), index=pd.date_range('2020-01-01', periods=50, freq='1D'))\n",
    "con = s.size%5==0\n",
    "print(s.rolling(window='5D').std())\n",
    "print(s.rolling(window='5D').cov())\n",
    "s.rolling(window='5D').corr()"
   ]
  },
  {
   "cell_type": "code",
   "execution_count": null,
   "id": "84584b75-b68f-4720-936a-84ecdd9432d7",
   "metadata": {},
   "outputs": [],
   "source": []
  }
 ],
 "metadata": {
  "kernelspec": {
   "display_name": "Python 3 (ipykernel)",
   "language": "python",
   "name": "python3"
  },
  "language_info": {
   "codemirror_mode": {
    "name": "ipython",
    "version": 3
   },
   "file_extension": ".py",
   "mimetype": "text/x-python",
   "name": "python",
   "nbconvert_exporter": "python",
   "pygments_lexer": "ipython3",
   "version": "3.9.13"
  }
 },
 "nbformat": 4,
 "nbformat_minor": 5
}
